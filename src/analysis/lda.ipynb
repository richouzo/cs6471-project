{
   "cells": [
      {
         "cell_type": "code",
         "execution_count": 71,
         "metadata": {},
         "outputs": [],
         "source": [
            "from lda import *\n",
            "from grid_search_lda import *\n",
            "import pandas as pd\n",
            "import numpy as np\n",
            "from sklearn.svm import LinearSVC\n",
            "from sklearn.metrics import classification_report, f1_score\n",
            "import matplotlib\n",
            "import matplotlib.pyplot as plt\n",
            "# use default matplotlib backend\n",
            "matplotlib.style.use('default')"
         ]
      },
      {
         "cell_type": "markdown",
         "metadata": {},
         "source": [
            "# LDA Model Analysis"
         ]
      },
      {
         "cell_type": "code",
         "execution_count": 6,
         "metadata": {},
         "outputs": [],
         "source": [
            "LOAD_SAVED = False\n",
            "PRINT_COHERENCE = True"
         ]
      },
      {
         "cell_type": "code",
         "execution_count": 7,
         "metadata": {},
         "outputs": [],
         "source": [
            "# k_implicit, k_covid, k_offenseval = gridsearch_lda()\n",
            "k_implicit, k_covid, k_offenseval = 13, 13, 13"
         ]
      },
      {
         "cell_type": "markdown",
         "metadata": {},
         "source": [
            "## Training LDA Models\n",
            "We will create bigrams and train LDA models for each of the three datasets we have. We will use the validation dataset to test the impact of using LDA output as features for the model and the test dataset to evaluate cross-domain generalization."
         ]
      },
      {
         "cell_type": "markdown",
         "metadata": {},
         "source": [
            "### Implicit Hate"
         ]
      },
      {
         "cell_type": "code",
         "execution_count": 8,
         "metadata": {},
         "outputs": [],
         "source": [
            "implicit_df_train = pd.read_csv(\"./../../data/implicithate_train.csv\")\n",
            "lda_implicit, vectors_implicit_train, coherence_implicit = lda(implicit_df_train, load_from=\"../../data/lda_implicit.model\") if LOAD_SAVED else lda(implicit_df_train, k=k_implicit)"
         ]
      },
      {
         "cell_type": "code",
         "execution_count": 9,
         "metadata": {},
         "outputs": [
            {
               "name": "stdout",
               "output_type": "stream",
               "text": [
                  "Coherence Score: 0.4223278167498282\n"
               ]
            }
         ],
         "source": [
            "if PRINT_COHERENCE:\n",
            "    print('Coherence Score:', coherence_implicit)"
         ]
      },
      {
         "cell_type": "code",
         "execution_count": 10,
         "metadata": {},
         "outputs": [],
         "source": [
            "if not LOAD_SAVED:\n",
            "    lda_implicit.save('../../saved-models/lda_implicit.model')"
         ]
      },
      {
         "cell_type": "markdown",
         "metadata": {},
         "source": [
            "### COVID Hate"
         ]
      },
      {
         "cell_type": "code",
         "execution_count": 11,
         "metadata": {},
         "outputs": [],
         "source": [
            "covid_df_train = pd.read_csv(\"./../../data/covidhate_train.csv\")\n",
            "lda_covid, vectors_covid_train, coherence_covid = lda(covid_df_train, load_from=\"../../saved-models/lda_covid.model\") if LOAD_SAVED else lda(covid_df_train, k=k_covid)"
         ]
      },
      {
         "cell_type": "code",
         "execution_count": 12,
         "metadata": {},
         "outputs": [
            {
               "name": "stdout",
               "output_type": "stream",
               "text": [
                  "Coherence Score: 0.5020425509510187\n"
               ]
            }
         ],
         "source": [
            "if PRINT_COHERENCE:\n",
            "    print('Coherence Score:', coherence_covid)"
         ]
      },
      {
         "cell_type": "code",
         "execution_count": 13,
         "metadata": {},
         "outputs": [],
         "source": [
            "if not LOAD_SAVED:\n",
            "    lda_covid.save('../../saved-models/lda_covid.model')"
         ]
      },
      {
         "cell_type": "markdown",
         "metadata": {},
         "source": [
            "### Offensval"
         ]
      },
      {
         "cell_type": "code",
         "execution_count": 14,
         "metadata": {},
         "outputs": [],
         "source": [
            "offenseval_df_train = pd.read_csv(\"./../../data/offenseval_train.csv\")\n",
            "lda_offenseval, vectors_offenseval_train, coherence_offenseval = lda(offenseval_df_train, load_from=\"../../saved-models/lda_offenseval.model\") if LOAD_SAVED else lda(offenseval_df_train, k=k_offenseval)"
         ]
      },
      {
         "cell_type": "code",
         "execution_count": 15,
         "metadata": {},
         "outputs": [
            {
               "name": "stdout",
               "output_type": "stream",
               "text": [
                  "Coherence Score: 0.3811385300677117\n"
               ]
            }
         ],
         "source": [
            "if PRINT_COHERENCE:\n",
            "    print('Coherence Score:', coherence_offenseval)"
         ]
      },
      {
         "cell_type": "code",
         "execution_count": 16,
         "metadata": {},
         "outputs": [],
         "source": [
            "if not LOAD_SAVED:\n",
            "    lda_offenseval.save('../../saved-models/lda_offenseval.model')"
         ]
      },
      {
         "cell_type": "markdown",
         "metadata": {},
         "source": [
            "## Comparing SVM Models (LDA vs. TF-IDF as input features)"
         ]
      },
      {
         "cell_type": "markdown",
         "metadata": {},
         "source": [
            "### Create the SVMs using LDA features"
         ]
      },
      {
         "cell_type": "markdown",
         "metadata": {},
         "source": [
            "#### Implicit Hate"
         ]
      },
      {
         "cell_type": "code",
         "execution_count": 17,
         "metadata": {},
         "outputs": [],
         "source": [
            "X = np.array(vectors_implicit_train)\n",
            "y = np.array(implicit_df_train['label'])\n",
            "svm_implicit_lda = LinearSVC(tol=1e-3, class_weight=\"balanced\").fit(X, y)"
         ]
      },
      {
         "cell_type": "code",
         "execution_count": 18,
         "metadata": {},
         "outputs": [],
         "source": [
            "implicit_df_val = pd.read_csv(\"./../../data/implicithate_val.csv\")\n",
            "implicit_df_val = create_tokenized_column(implicit_df_val)\n",
            "implicit_bigrams_val = create_bigrams(implicit_df_val[\"tokenized\"])\n",
            "implicit_dict_val, implicit_corpus_val = get_dict_and_corpus(implicit_bigrams_val)\n",
            "implicit_val_vectors = get_vectors(lda_implicit, implicit_corpus_val, k=13)"
         ]
      },
      {
         "cell_type": "code",
         "execution_count": 19,
         "metadata": {},
         "outputs": [
            {
               "name": "stdout",
               "output_type": "stream",
               "text": [
                  "              precision    recall  f1-score   support\n",
                  "\n",
                  "    non-hate       0.63      0.58      0.60      2150\n",
                  "        hate       0.38      0.43      0.40      1284\n",
                  "\n",
                  "    accuracy                           0.52      3434\n",
                  "   macro avg       0.50      0.50      0.50      3434\n",
                  "weighted avg       0.53      0.52      0.53      3434\n",
                  "\n"
               ]
            }
         ],
         "source": [
            "implicit_preds_lda = svm_implicit_lda.predict(implicit_val_vectors)\n",
            "print(classification_report(implicit_df_val['label'], implicit_preds_lda, labels=[0, 1], target_names=['non-hate', 'hate']))"
         ]
      },
      {
         "cell_type": "markdown",
         "metadata": {},
         "source": [
            "#### COVID Hate"
         ]
      },
      {
         "cell_type": "code",
         "execution_count": 20,
         "metadata": {},
         "outputs": [],
         "source": [
            "X = np.array(vectors_covid_train)\n",
            "y = np.array(covid_df_train['label'])\n",
            "svm_covid_lda = LinearSVC(tol=1e-3, class_weight=\"balanced\").fit(X, y)"
         ]
      },
      {
         "cell_type": "code",
         "execution_count": 21,
         "metadata": {},
         "outputs": [],
         "source": [
            "covid_df_val = pd.read_csv(\"./../../data/covidhate_val.csv\")\n",
            "covid_df_val = create_tokenized_column(covid_df_val)\n",
            "covid_bigrams_val = create_bigrams(covid_df_val[\"tokenized\"])\n",
            "covid_dict_val, covid_corpus_val = get_dict_and_corpus(covid_bigrams_val)\n",
            "covid_val_vectors = get_vectors(lda_covid, covid_corpus_val, k=13)"
         ]
      },
      {
         "cell_type": "code",
         "execution_count": 22,
         "metadata": {},
         "outputs": [
            {
               "name": "stdout",
               "output_type": "stream",
               "text": [
                  "              precision    recall  f1-score   support\n",
                  "\n",
                  "    non-hate       0.85      0.82      0.84       312\n",
                  "        hate       0.15      0.18      0.17        55\n",
                  "\n",
                  "    accuracy                           0.72       367\n",
                  "   macro avg       0.50      0.50      0.50       367\n",
                  "weighted avg       0.75      0.72      0.73       367\n",
                  "\n"
               ]
            }
         ],
         "source": [
            "covid_preds_lda = svm_covid_lda.predict(covid_val_vectors)\n",
            "print(classification_report(covid_df_val['label'], covid_preds_lda, labels=[0, 1], target_names=['non-hate', 'hate']))"
         ]
      },
      {
         "cell_type": "markdown",
         "metadata": {},
         "source": [
            "#### Offenseval"
         ]
      },
      {
         "cell_type": "code",
         "execution_count": 23,
         "metadata": {},
         "outputs": [],
         "source": [
            "X = np.array(vectors_offenseval_train)\n",
            "y = np.array(offenseval_df_train['label'])\n",
            "svm_offenseval_lda = LinearSVC(tol=1e-3, class_weight=\"balanced\").fit(X, y)"
         ]
      },
      {
         "cell_type": "code",
         "execution_count": 24,
         "metadata": {},
         "outputs": [],
         "source": [
            "offenseval_df_val = pd.read_csv(\"./../../data/offenseval_val.csv\")\n",
            "offenseval_df_val = create_tokenized_column(offenseval_df_val)\n",
            "offenseval_bigrams_val = create_bigrams(offenseval_df_val[\"tokenized\"])\n",
            "offenseval_dict_val, offenseval_corpus_val = get_dict_and_corpus(offenseval_bigrams_val)\n",
            "offenseval_val_vectors = get_vectors(lda_offenseval, offenseval_corpus_val, k=13)"
         ]
      },
      {
         "cell_type": "code",
         "execution_count": 25,
         "metadata": {},
         "outputs": [
            {
               "name": "stdout",
               "output_type": "stream",
               "text": [
                  "              precision    recall  f1-score   support\n",
                  "\n",
                  "    non-hate       0.66      0.56      0.61      1733\n",
                  "        hate       0.35      0.45      0.40       915\n",
                  "\n",
                  "    accuracy                           0.52      2648\n",
                  "   macro avg       0.51      0.51      0.50      2648\n",
                  "weighted avg       0.55      0.52      0.53      2648\n",
                  "\n"
               ]
            }
         ],
         "source": [
            "offenseval_preds_lda = svm_offenseval_lda.predict(offenseval_val_vectors)\n",
            "print(classification_report(offenseval_df_val['label'], offenseval_preds_lda, labels=[0, 1], target_names=['non-hate', 'hate']))"
         ]
      },
      {
         "cell_type": "markdown",
         "metadata": {},
         "source": [
            "### Create the SVMs using TF-IDF features"
         ]
      },
      {
         "cell_type": "code",
         "execution_count": 26,
         "metadata": {},
         "outputs": [],
         "source": [
            "from sklearn.feature_extraction.text import TfidfVectorizer\n",
            "from nltk.corpus import stopwords\n",
            "stop_words = stopwords.words('english')\n",
            "stop_words.extend([\"from\", \"subject\", \"re\", \"edu\", \"use\"])"
         ]
      },
      {
         "cell_type": "markdown",
         "metadata": {},
         "source": [
            "#### Implicit Hate"
         ]
      },
      {
         "cell_type": "code",
         "execution_count": 27,
         "metadata": {},
         "outputs": [],
         "source": [
            "implicit_tfidf = TfidfVectorizer(stop_words=stop_words, max_features=5000)\n",
            "implicit_tfidf.fit(implicit_df_train['text'])\n",
            "implicit_tfidf_train = implicit_tfidf.transform(implicit_df_train['text'])\n",
            "implicit_tfidf_val = implicit_tfidf.transform(implicit_df_val['text'])\n",
            "svm_implicit_tfidf = LinearSVC(tol=1e-3, class_weight=\"balanced\").fit(implicit_tfidf_train, implicit_df_train['label'])"
         ]
      },
      {
         "cell_type": "code",
         "execution_count": 28,
         "metadata": {},
         "outputs": [
            {
               "name": "stdout",
               "output_type": "stream",
               "text": [
                  "              precision    recall  f1-score   support\n",
                  "\n",
                  "    non-hate       0.77      0.73      0.75      2150\n",
                  "        hate       0.58      0.64      0.61      1284\n",
                  "\n",
                  "    accuracy                           0.70      3434\n",
                  "   macro avg       0.68      0.68      0.68      3434\n",
                  "weighted avg       0.70      0.70      0.70      3434\n",
                  "\n"
               ]
            }
         ],
         "source": [
            "implicit_preds_tfidf = svm_implicit_tfidf.predict(implicit_tfidf_val)\n",
            "print(classification_report(implicit_df_val['label'], implicit_preds_tfidf, labels=[0, 1], target_names=['non-hate', 'hate']))"
         ]
      },
      {
         "cell_type": "markdown",
         "metadata": {},
         "source": [
            "#### COVID Hate"
         ]
      },
      {
         "cell_type": "code",
         "execution_count": 29,
         "metadata": {},
         "outputs": [],
         "source": [
            "covid_tfidf = TfidfVectorizer(stop_words=stop_words, max_features=5000)\n",
            "covid_tfidf.fit(covid_df_train['text'])\n",
            "covid_tfidf_train = covid_tfidf.transform(covid_df_train['text'])\n",
            "covid_tfidf_val = covid_tfidf.transform(covid_df_val['text'])\n",
            "svm_covid_tfidf = LinearSVC(tol=1e-3, class_weight=\"balanced\").fit(covid_tfidf_train, covid_df_train['label'])"
         ]
      },
      {
         "cell_type": "code",
         "execution_count": 30,
         "metadata": {},
         "outputs": [
            {
               "name": "stdout",
               "output_type": "stream",
               "text": [
                  "              precision    recall  f1-score   support\n",
                  "\n",
                  "    non-hate       0.93      0.93      0.93       312\n",
                  "        hate       0.60      0.62      0.61        55\n",
                  "\n",
                  "    accuracy                           0.88       367\n",
                  "   macro avg       0.76      0.77      0.77       367\n",
                  "weighted avg       0.88      0.88      0.88       367\n",
                  "\n"
               ]
            }
         ],
         "source": [
            "covid_preds_tfidf = svm_covid_tfidf.predict(covid_tfidf_val)\n",
            "print(classification_report(covid_df_val['label'], covid_preds_tfidf, labels=[0, 1], target_names=['non-hate', 'hate']))"
         ]
      },
      {
         "cell_type": "markdown",
         "metadata": {},
         "source": [
            "#### Offenseval"
         ]
      },
      {
         "cell_type": "code",
         "execution_count": 31,
         "metadata": {},
         "outputs": [],
         "source": [
            "offenseval_tfidf = TfidfVectorizer(stop_words=stop_words, max_features=5000)\n",
            "offenseval_tfidf.fit(offenseval_df_train['text'])\n",
            "offenseval_tfidf_train = offenseval_tfidf.transform(offenseval_df_train['text'])\n",
            "offenseval_tfidf_val = offenseval_tfidf.transform(offenseval_df_val['text'])\n",
            "svm_offenseval_tfidf = LinearSVC(tol=1e-3, class_weight=\"balanced\").fit(offenseval_tfidf_train, offenseval_df_train['label'])"
         ]
      },
      {
         "cell_type": "code",
         "execution_count": 32,
         "metadata": {},
         "outputs": [
            {
               "name": "stdout",
               "output_type": "stream",
               "text": [
                  "              precision    recall  f1-score   support\n",
                  "\n",
                  "    non-hate       0.79      0.77      0.78      1733\n",
                  "        hate       0.59      0.62      0.61       915\n",
                  "\n",
                  "    accuracy                           0.72      2648\n",
                  "   macro avg       0.69      0.70      0.69      2648\n",
                  "weighted avg       0.72      0.72      0.72      2648\n",
                  "\n"
               ]
            }
         ],
         "source": [
            "offenseval_preds_tfidf = svm_offenseval_tfidf.predict(offenseval_tfidf_val)\n",
            "print(classification_report(offenseval_df_val['label'], offenseval_preds_tfidf, labels=[0, 1], target_names=['non-hate', 'hate']))"
         ]
      },
      {
         "cell_type": "markdown",
         "metadata": {},
         "source": [
            "### Evaluate the performance of the SVMs"
         ]
      },
      {
         "cell_type": "code",
         "execution_count": 72,
         "metadata": {},
         "outputs": [
            {
               "name": "stderr",
               "output_type": "stream",
               "text": [
                  "C:\\Users\\Kai\\AppData\\Local\\Temp\\ipykernel_18720\\673200413.py:12: UserWarning: Matplotlib is currently using agg, which is a non-GUI backend, so cannot show the figure.\n",
                  "  plt.show()\n"
               ]
            },
            {
               "data": {
                  "image/png": "[encoded data removed]",
                  "text/plain": [
                     "<Figure size 640x480 with 1 Axes>"
                  ]
               },
               "metadata": {},
               "output_type": "display_data"
            }
         ],
         "source": [
            "# compare the macro avg f1 score of the three models between the tfidf and lda versions of SVMs\n",
            "f1_scores_tfidf = [f1_score(implicit_df_val['label'], implicit_preds_tfidf, average='macro'), f1_score(covid_df_val['label'], covid_preds_tfidf, average='macro'), f1_score(offenseval_df_val['label'], offenseval_preds_tfidf, average='macro')]\n",
            "plt.bar(np.arange(3)+0.2, f1_scores_tfidf, 0.4, label = \"TF-IDF\")\n",
            "f1_scores_lda = [f1_score(implicit_df_val['label'], implicit_preds_lda, average='macro'), f1_score(covid_df_val['label'], covid_preds_lda, average='macro'), f1_score(offenseval_df_val['label'], offenseval_preds_lda, average='macro')]\n",
            "plt.bar(np.arange(3)-0.2, f1_scores_lda, 0.4, label = \"LDA\")\n",
            "plt.xticks(np.arange(3), ['Implicit Hate', 'COVID Hate', 'Offenseval'])\n",
            "plt.xlabel(\"Dataset\", fontsize=12)\n",
            "plt.ylabel(\"F1 Score (macro avg)\")\n",
            "plt.title(\"Comparing F1 Scores of SVM Models (Validation)\", fontsize=14)\n",
            "plt.legend()\n",
            "plt.grid(True, axis='y')\n",
            "plt.show()"
         ]
      },
      {
         "cell_type": "markdown",
         "metadata": {},
         "source": [
            "## Cross-Domain Analysis"
         ]
      },
      {
         "cell_type": "markdown",
         "metadata": {},
         "source": [
            "### Preprocessing"
         ]
      },
      {
         "cell_type": "code",
         "execution_count": 34,
         "metadata": {},
         "outputs": [],
         "source": [
            "implicit_df_test = pd.read_csv(\"./../../data/implicithate_test.csv\")\n",
            "implicit_df_test = create_tokenized_column(implicit_df_test)\n",
            "implicit_bigrams_test = create_bigrams(implicit_df_test[\"tokenized\"])\n",
            "implicit_dict_test, implicit_corpus_test = get_dict_and_corpus(implicit_bigrams_test)\n",
            "implicit_test_vectors = get_vectors(lda_implicit, implicit_corpus_test, k=13)\n",
            "implicit_tfidf_test = implicit_tfidf.transform(implicit_df_test['text'])"
         ]
      },
      {
         "cell_type": "code",
         "execution_count": 35,
         "metadata": {},
         "outputs": [],
         "source": [
            "covid_df_test = pd.read_csv(\"./../../data/covidhate_test.csv\")\n",
            "covid_df_test = create_tokenized_column(covid_df_test)\n",
            "covid_bigrams_test = create_bigrams(covid_df_test[\"tokenized\"])\n",
            "covid_dict_test, covid_corpus_test = get_dict_and_corpus(covid_bigrams_test)\n",
            "covid_test_vectors = get_vectors(lda_covid, covid_corpus_test, k=13)\n",
            "covid_tfidf_test = covid_tfidf.transform(covid_df_test['text'])"
         ]
      },
      {
         "cell_type": "code",
         "execution_count": 36,
         "metadata": {},
         "outputs": [],
         "source": [
            "offenseval_df_test = pd.read_csv(\"./../../data/offenseval_test.csv\")\n",
            "offenseval_df_test = create_tokenized_column(offenseval_df_test)\n",
            "offenseval_bigrams_test = create_bigrams(offenseval_df_test[\"tokenized\"])\n",
            "offenseval_dict_test, offenseval_corpus_test = get_dict_and_corpus(offenseval_bigrams_test)\n",
            "offenseval_test_vectors = get_vectors(lda_offenseval, offenseval_corpus_test, k=13)\n",
            "offenseval_tfidf_test = offenseval_tfidf.transform(offenseval_df_test['text'])"
         ]
      },
      {
         "cell_type": "markdown",
         "metadata": {},
         "source": [
            "### Implicit Hate model on COVID Hate dataset"
         ]
      },
      {
         "cell_type": "code",
         "execution_count": 37,
         "metadata": {},
         "outputs": [],
         "source": [
            "f1_scores_crossdomain = {}"
         ]
      },
      {
         "cell_type": "code",
         "execution_count": 38,
         "metadata": {},
         "outputs": [
            {
               "name": "stdout",
               "output_type": "stream",
               "text": [
                  "              precision    recall  f1-score   support\n",
                  "\n",
                  "    non-hate       0.83      0.32      0.46       370\n",
                  "        hate       0.20      0.72      0.31        88\n",
                  "\n",
                  "    accuracy                           0.40       458\n",
                  "   macro avg       0.51      0.52      0.39       458\n",
                  "weighted avg       0.71      0.40      0.43       458\n",
                  "\n"
               ]
            }
         ],
         "source": [
            "implicit_covid_preds_lda = svm_implicit_lda.predict(covid_test_vectors)\n",
            "print(classification_report(covid_df_test['label'], implicit_covid_preds_lda, labels=[0, 1], target_names=['non-hate', 'hate']))"
         ]
      },
      {
         "cell_type": "code",
         "execution_count": 39,
         "metadata": {},
         "outputs": [
            {
               "name": "stdout",
               "output_type": "stream",
               "text": [
                  "              precision    recall  f1-score   support\n",
                  "\n",
                  "    non-hate       0.79      0.66      0.72       370\n",
                  "        hate       0.17      0.28      0.21        88\n",
                  "\n",
                  "    accuracy                           0.59       458\n",
                  "   macro avg       0.48      0.47      0.47       458\n",
                  "weighted avg       0.67      0.59      0.62       458\n",
                  "\n"
               ]
            }
         ],
         "source": [
            "implicit_covid_preds_tfidf = svm_implicit_tfidf.predict(covid_tfidf_test)\n",
            "print(classification_report(covid_df_test['label'], implicit_covid_preds_tfidf, labels=[0, 1], target_names=['non-hate', 'hate']))"
         ]
      },
      {
         "cell_type": "code",
         "execution_count": 40,
         "metadata": {},
         "outputs": [],
         "source": [
            "f1_scores_crossdomain[\"implicit_covid\"] = [f1_score(covid_df_test['label'], implicit_covid_preds_lda, average='macro'), f1_score(covid_df_test['label'], implicit_covid_preds_tfidf, average='macro')]"
         ]
      },
      {
         "cell_type": "markdown",
         "metadata": {},
         "source": [
            "### COVID Hate model on Implicit Hate dataset"
         ]
      },
      {
         "cell_type": "code",
         "execution_count": 41,
         "metadata": {},
         "outputs": [
            {
               "name": "stdout",
               "output_type": "stream",
               "text": [
                  "              precision    recall  f1-score   support\n",
                  "\n",
                  "    non-hate       0.58      0.10      0.17      2674\n",
                  "        hate       0.37      0.88      0.52      1617\n",
                  "\n",
                  "    accuracy                           0.40      4291\n",
                  "   macro avg       0.48      0.49      0.35      4291\n",
                  "weighted avg       0.50      0.40      0.31      4291\n",
                  "\n"
               ]
            }
         ],
         "source": [
            "covid_implicit_preds_lda = svm_covid_lda.predict(implicit_test_vectors)\n",
            "print(classification_report(implicit_df_test['label'], covid_implicit_preds_lda, labels=[0, 1], target_names=['non-hate', 'hate']))"
         ]
      },
      {
         "cell_type": "code",
         "execution_count": 42,
         "metadata": {},
         "outputs": [
            {
               "name": "stdout",
               "output_type": "stream",
               "text": [
                  "              precision    recall  f1-score   support\n",
                  "\n",
                  "    non-hate       0.62      0.97      0.76      2674\n",
                  "        hate       0.39      0.03      0.05      1617\n",
                  "\n",
                  "    accuracy                           0.62      4291\n",
                  "   macro avg       0.51      0.50      0.41      4291\n",
                  "weighted avg       0.54      0.62      0.49      4291\n",
                  "\n"
               ]
            }
         ],
         "source": [
            "coivd_implicit_preds_tfidf = svm_covid_tfidf.predict(implicit_tfidf_test)\n",
            "print(classification_report(implicit_df_test['label'], coivd_implicit_preds_tfidf, labels=[0, 1], target_names=['non-hate', 'hate']))"
         ]
      },
      {
         "cell_type": "code",
         "execution_count": 43,
         "metadata": {},
         "outputs": [],
         "source": [
            "f1_scores_crossdomain[\"covid_implicit\"] = [f1_score(implicit_df_test['label'], covid_implicit_preds_lda, average='macro'), f1_score(implicit_df_test['label'], coivd_implicit_preds_tfidf, average='macro')]"
         ]
      },
      {
         "cell_type": "markdown",
         "metadata": {},
         "source": [
            "### Implicit Hate model on Offenseval dataset"
         ]
      },
      {
         "cell_type": "code",
         "execution_count": 44,
         "metadata": {},
         "outputs": [
            {
               "name": "stdout",
               "output_type": "stream",
               "text": [
                  "              precision    recall  f1-score   support\n",
                  "\n",
                  "    non-hate       1.00      0.00      0.00       620\n",
                  "        hate       0.28      1.00      0.44       240\n",
                  "\n",
                  "    accuracy                           0.28       860\n",
                  "   macro avg       0.64      0.50      0.22       860\n",
                  "weighted avg       0.80      0.28      0.12       860\n",
                  "\n"
               ]
            }
         ],
         "source": [
            "implicit_offenseval_preds_lda = svm_implicit_lda.predict(offenseval_test_vectors)\n",
            "print(classification_report(offenseval_df_test['label'], implicit_offenseval_preds_lda, labels=[0, 1], target_names=['non-hate', 'hate']))"
         ]
      },
      {
         "cell_type": "code",
         "execution_count": 45,
         "metadata": {},
         "outputs": [
            {
               "name": "stdout",
               "output_type": "stream",
               "text": [
                  "              precision    recall  f1-score   support\n",
                  "\n",
                  "    non-hate       0.75      0.54      0.63       620\n",
                  "        hate       0.31      0.52      0.39       240\n",
                  "\n",
                  "    accuracy                           0.54       860\n",
                  "   macro avg       0.53      0.53      0.51       860\n",
                  "weighted avg       0.62      0.54      0.56       860\n",
                  "\n"
               ]
            }
         ],
         "source": [
            "implicit_offenseval_preds_tfidf = svm_implicit_tfidf.predict(offenseval_tfidf_test)\n",
            "print(classification_report(offenseval_df_test['label'], implicit_offenseval_preds_tfidf, labels=[0, 1], target_names=['non-hate', 'hate']))"
         ]
      },
      {
         "cell_type": "code",
         "execution_count": 46,
         "metadata": {},
         "outputs": [],
         "source": [
            "f1_scores_crossdomain[\"implicit_offenseval\"] = [f1_score(offenseval_df_test['label'], implicit_offenseval_preds_lda, average='macro'), f1_score(offenseval_df_test['label'], implicit_offenseval_preds_tfidf, average='macro')]"
         ]
      },
      {
         "cell_type": "markdown",
         "metadata": {},
         "source": [
            "### Offensval model on Implicit Hate dataset"
         ]
      },
      {
         "cell_type": "code",
         "execution_count": 47,
         "metadata": {},
         "outputs": [
            {
               "name": "stdout",
               "output_type": "stream",
               "text": [
                  "              precision    recall  f1-score   support\n",
                  "\n",
                  "    non-hate       0.75      0.00      0.00      2674\n",
                  "        hate       0.38      1.00      0.55      1617\n",
                  "\n",
                  "    accuracy                           0.38      4291\n",
                  "   macro avg       0.56      0.50      0.27      4291\n",
                  "weighted avg       0.61      0.38      0.21      4291\n",
                  "\n"
               ]
            }
         ],
         "source": [
            "offenseval_implicit_preds_lda = svm_offenseval_lda.predict(implicit_test_vectors)\n",
            "print(classification_report(implicit_df_test['label'], offenseval_implicit_preds_lda, labels=[0, 1], target_names=['non-hate', 'hate']))"
         ]
      },
      {
         "cell_type": "code",
         "execution_count": 48,
         "metadata": {},
         "outputs": [
            {
               "name": "stdout",
               "output_type": "stream",
               "text": [
                  "              precision    recall  f1-score   support\n",
                  "\n",
                  "    non-hate       0.64      0.72      0.68      2674\n",
                  "        hate       0.41      0.32      0.36      1617\n",
                  "\n",
                  "    accuracy                           0.57      4291\n",
                  "   macro avg       0.52      0.52      0.52      4291\n",
                  "weighted avg       0.55      0.57      0.56      4291\n",
                  "\n"
               ]
            }
         ],
         "source": [
            "offenseval_implicit_preds_tfidf = svm_offenseval_tfidf.predict(implicit_tfidf_test)\n",
            "print(classification_report(implicit_df_test['label'], offenseval_implicit_preds_tfidf, labels=[0, 1], target_names=['non-hate', 'hate']))"
         ]
      },
      {
         "cell_type": "code",
         "execution_count": 49,
         "metadata": {},
         "outputs": [],
         "source": [
            "f1_scores_crossdomain[\"offenseval_implicit\"] = [f1_score(implicit_df_test['label'], offenseval_implicit_preds_lda, average='macro'), f1_score(implicit_df_test['label'], offenseval_implicit_preds_tfidf, average='macro')]"
         ]
      },
      {
         "cell_type": "markdown",
         "metadata": {},
         "source": [
            "### COVID Hate model on Offenseval dataset"
         ]
      },
      {
         "cell_type": "code",
         "execution_count": 50,
         "metadata": {},
         "outputs": [
            {
               "name": "stdout",
               "output_type": "stream",
               "text": [
                  "              precision    recall  f1-score   support\n",
                  "\n",
                  "    non-hate       0.89      0.05      0.10       620\n",
                  "        hate       0.29      0.98      0.44       240\n",
                  "\n",
                  "    accuracy                           0.31       860\n",
                  "   macro avg       0.59      0.52      0.27       860\n",
                  "weighted avg       0.72      0.31      0.20       860\n",
                  "\n"
               ]
            }
         ],
         "source": [
            "covid_offenseval_preds_lda = svm_covid_lda.predict(offenseval_test_vectors)\n",
            "print(classification_report(offenseval_df_test['label'], covid_offenseval_preds_lda, labels=[0, 1], target_names=['non-hate', 'hate']))"
         ]
      },
      {
         "cell_type": "code",
         "execution_count": 51,
         "metadata": {},
         "outputs": [
            {
               "name": "stdout",
               "output_type": "stream",
               "text": [
                  "              precision    recall  f1-score   support\n",
                  "\n",
                  "    non-hate       0.71      0.95      0.81       620\n",
                  "        hate       0.03      0.00      0.01       240\n",
                  "\n",
                  "    accuracy                           0.68       860\n",
                  "   macro avg       0.37      0.48      0.41       860\n",
                  "weighted avg       0.52      0.68      0.59       860\n",
                  "\n"
               ]
            }
         ],
         "source": [
            "covid_offenseval_preds_tfidf = svm_covid_tfidf.predict(offenseval_tfidf_test)\n",
            "print(classification_report(offenseval_df_test['label'], covid_offenseval_preds_tfidf, labels=[0, 1], target_names=['non-hate', 'hate']))"
         ]
      },
      {
         "cell_type": "code",
         "execution_count": 52,
         "metadata": {},
         "outputs": [],
         "source": [
            "f1_scores_crossdomain[\"covid_offenseval\"] = [f1_score(offenseval_df_test['label'], covid_offenseval_preds_lda, average='macro'), f1_score(offenseval_df_test['label'], covid_offenseval_preds_tfidf, average='macro')]"
         ]
      },
      {
         "cell_type": "markdown",
         "metadata": {},
         "source": [
            "### Offenseval model on COVID Hate dataset"
         ]
      },
      {
         "cell_type": "code",
         "execution_count": 53,
         "metadata": {},
         "outputs": [
            {
               "name": "stdout",
               "output_type": "stream",
               "text": [
                  "              precision    recall  f1-score   support\n",
                  "\n",
                  "    non-hate       0.94      0.08      0.14       370\n",
                  "        hate       0.20      0.98      0.33        88\n",
                  "\n",
                  "    accuracy                           0.25       458\n",
                  "   macro avg       0.57      0.53      0.24       458\n",
                  "weighted avg       0.79      0.25      0.18       458\n",
                  "\n"
               ]
            }
         ],
         "source": [
            "offenseval_covid_preds_lda = svm_offenseval_lda.predict(covid_test_vectors)\n",
            "print(classification_report(covid_df_test['label'], offenseval_covid_preds_lda, labels=[0, 1], target_names=['non-hate', 'hate']))"
         ]
      },
      {
         "cell_type": "code",
         "execution_count": 54,
         "metadata": {},
         "outputs": [
            {
               "name": "stdout",
               "output_type": "stream",
               "text": [
                  "              precision    recall  f1-score   support\n",
                  "\n",
                  "    non-hate       0.78      0.59      0.67       370\n",
                  "        hate       0.16      0.32      0.21        88\n",
                  "\n",
                  "    accuracy                           0.54       458\n",
                  "   macro avg       0.47      0.46      0.44       458\n",
                  "weighted avg       0.66      0.54      0.59       458\n",
                  "\n"
               ]
            }
         ],
         "source": [
            "offenseval_covid_preds_tfidf = svm_offenseval_tfidf.predict(covid_tfidf_test)\n",
            "print(classification_report(covid_df_test['label'], offenseval_covid_preds_tfidf, labels=[0, 1], target_names=['non-hate', 'hate']))"
         ]
      },
      {
         "cell_type": "code",
         "execution_count": 55,
         "metadata": {},
         "outputs": [],
         "source": [
            "f1_scores_crossdomain[\"offenseval_covid\"] = [f1_score(covid_df_test['label'], offenseval_covid_preds_lda, average='macro'), f1_score(covid_df_test['label'], offenseval_covid_preds_tfidf, average='macro')]"
         ]
      },
      {
         "cell_type": "code",
         "execution_count": 58,
         "metadata": {},
         "outputs": [
            {
               "data": {
                  "image/png": "[encoded data removed]",
                  "text/plain": [
                     "<Figure size 864x360 with 1 Axes>"
                  ]
               },
               "metadata": {
                  "needs_background": "light"
               },
               "output_type": "display_data"
            }
         ],
         "source": [
            "# make a wide figure\n",
            "fig, ax = plt.subplots(figsize=(12, 5))\n",
            "x_axis = np.arange(len(f1_scores_crossdomain.keys()))\n",
            "plt.bar(x_axis + 0.2, [y[1] for y in list(f1_scores_crossdomain.values())], align='center', width=0.4, label='TF-IDF')\n",
            "plt.bar(x_axis - 0.2, [y[0] for y in list(f1_scores_crossdomain.values())], align='center', width=0.4, label='LDA')\n",
            "plt.xticks(x_axis, list(f1_scores_crossdomain.keys()))\n",
            "plt.xlabel('[model]_[dataset]', fontsize=12)\n",
            "plt.ylabel('F1 Score')\n",
            "plt.title('Cross-Domain F1 Scores from SVMs on Unseen Test Sets', fontsize=14)\n",
            "plt.grid(True, axis='y')\n",
            "plt.legend()\n",
            "plt.show()"
         ]
      }
   ],
   "metadata": {
      "interpreter": {
         "hash": "0ec2030db7bfae298aff43999c7d9f1264b161236d59f5acd9bdfb7ddab7d446"
      },
      "kernelspec": {
         "display_name": "Python 3.8.12 ('cs6471')",
         "language": "python",
         "name": "python3"
      },
      "language_info": {
         "codemirror_mode": {
            "name": "ipython",
            "version": 3
         },
         "file_extension": ".py",
         "mimetype": "text/x-python",
         "name": "python",
         "nbconvert_exporter": "python",
         "pygments_lexer": "ipython3",
         "version": "3.8.12"
      },
      "orig_nbformat": 4
   },
   "nbformat": 4,
   "nbformat_minor": 2
}